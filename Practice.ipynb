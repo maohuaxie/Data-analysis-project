{
 "cells": [
  {
   "cell_type": "code",
   "execution_count": 1,
   "metadata": {
    "collapsed": false
   },
   "outputs": [
    {
     "name": "stdout",
     "output_type": "stream",
     "text": [
      "0.0\n",
      "1.0\n",
      "0.468995593589\n"
     ]
    }
   ],
   "source": [
    "import numpy as np\n",
    "def Entropy(CountList):\n",
    "  newList = filter(None,[float(x) / sum(CountList) for x in CountList])\n",
    "  entropy=-np.sum(newList * np.log2(newList))\n",
    "  if entropy == 0:\n",
    "    return 0.0\n",
    "  else:\n",
    "    return entropy\n",
    "#Of the 10 text mining papers docuemnts, \"the\" appeared 10 times\n",
    "#\"entropy\" appeared 5 times, \"Batman\" appeared 1 time.\n",
    "print Entropy([0,10])\n",
    "print Entropy([5,5])\n",
    "print Entropy([1,9])"
   ]
  },
  {
   "cell_type": "code",
   "execution_count": 2,
   "metadata": {
    "collapsed": false
   },
   "outputs": [
    {
     "name": "stdout",
     "output_type": "stream",
     "text": [
      "2.20837781917\n",
      "0.912428711224\n"
     ]
    }
   ],
   "source": [
    "print Entropy([287, 161, 130, 96, 257])\n",
    "print Entropy([631, 60, 24, 15, 20])"
   ]
  },
  {
   "cell_type": "code",
   "execution_count": 3,
   "metadata": {
    "collapsed": false
   },
   "outputs": [
    {
     "data": {
      "text/plain": [
       "40"
      ]
     },
     "execution_count": 3,
     "metadata": {},
     "output_type": "execute_result"
    }
   ],
   "source": [
    "OneSentence = \"A dog is chasing a boy on the playground\"\n",
    "len(OneSentence)"
   ]
  },
  {
   "cell_type": "code",
   "execution_count": 4,
   "metadata": {
    "collapsed": false
   },
   "outputs": [
    {
     "data": {
      "text/plain": [
       "'A'"
      ]
     },
     "execution_count": 4,
     "metadata": {},
     "output_type": "execute_result"
    }
   ],
   "source": [
    "[i for i in OneSentence][0]"
   ]
  },
  {
   "cell_type": "code",
   "execution_count": 5,
   "metadata": {
    "collapsed": true
   },
   "outputs": [],
   "source": [
    "WordList = OneSentence.split(\" \")"
   ]
  },
  {
   "cell_type": "code",
   "execution_count": 6,
   "metadata": {
    "collapsed": false
   },
   "outputs": [
    {
     "name": "stdout",
     "output_type": "stream",
     "text": [
      "['A', 'dog', 'is', 'chasing', 'a', 'boy', 'on', 'the', 'playground']\n",
      "9\n"
     ]
    }
   ],
   "source": [
    "print WordList\n",
    "print len(WordList)"
   ]
  },
  {
   "cell_type": "code",
   "execution_count": 7,
   "metadata": {
    "collapsed": false
   },
   "outputs": [
    {
     "data": {
      "text/plain": [
       "['dog', 'chasing', 'boy', 'the', 'playground']"
      ]
     },
     "execution_count": 7,
     "metadata": {},
     "output_type": "execute_result"
    }
   ],
   "source": [
    "[i for i in WordList if len(i)>=3]"
   ]
  },
  {
   "cell_type": "code",
   "execution_count": 8,
   "metadata": {
    "collapsed": false
   },
   "outputs": [
    {
     "data": {
      "text/plain": [
       "['A']"
      ]
     },
     "execution_count": 8,
     "metadata": {},
     "output_type": "execute_result"
    }
   ],
   "source": [
    "[i for i in WordList if i.istitle()]"
   ]
  },
  {
   "cell_type": "code",
   "execution_count": 9,
   "metadata": {
    "collapsed": false
   },
   "outputs": [
    {
     "data": {
      "text/plain": [
       "['dog', 'is', 'chasing', 'a', 'boy', 'on', 'the', 'playground']"
      ]
     },
     "execution_count": 9,
     "metadata": {},
     "output_type": "execute_result"
    }
   ],
   "source": [
    "[i for i in WordList if i.islower()]"
   ]
  },
  {
   "cell_type": "code",
   "execution_count": 10,
   "metadata": {
    "collapsed": false
   },
   "outputs": [
    {
     "name": "stdout",
     "output_type": "stream",
     "text": [
      "['A', 'dog', 'is', 'chasing', '1', 'boy', 'on', 'the', 'playground', '.']\n"
     ]
    }
   ],
   "source": [
    "OneSentence = \"A dog is chasing 1 boy on the playground .\"\n",
    "WordList = OneSentence.split(\" \")\n",
    "[i for i in WordList if i.isdigit()]\n",
    "[i for i in WordList if i.isalpha()]\n",
    "print WordList"
   ]
  },
  {
   "cell_type": "code",
   "execution_count": 12,
   "metadata": {
    "collapsed": false
   },
   "outputs": [
    {
     "name": "stdout",
     "output_type": "stream",
     "text": [
      "True\n",
      "False\n",
      "False\n"
     ]
    }
   ],
   "source": [
    "a = \"Discuss\"\n",
    "print a.istitle()\n",
    "print a.isupper()\n",
    "print a.islower()"
   ]
  },
  {
   "cell_type": "code",
   "execution_count": 13,
   "metadata": {
    "collapsed": false
   },
   "outputs": [
    {
     "data": {
      "text/plain": [
       "['dog', 'chasing', 'fee', 'fee', 'the']"
      ]
     },
     "execution_count": 13,
     "metadata": {},
     "output_type": "execute_result"
    }
   ],
   "source": [
    "OneSentence = \"A dog is do chasing fee fee 1 boy on the playground .\"\n",
    "WordList = OneSentence.split(\" \")\n",
    "[i for i in WordList if i.endswith(\"e\") or i.endswith(\"g\")]\n"
   ]
  },
  {
   "cell_type": "code",
   "execution_count": 15,
   "metadata": {
    "collapsed": false
   },
   "outputs": [
    {
     "name": "stdout",
     "output_type": "stream",
     "text": [
      "['To', 'be', 'or', 'not', 'to', 'be']\n",
      "set(['not', 'To', 'or', 'to', 'be'])\n",
      "set(['not', 'to', 'or', 'be'])\n"
     ]
    }
   ],
   "source": [
    "OneSentence = \"To be or not to be\"\n",
    "WordList = OneSentence.split(\" \")\n",
    "print WordList\n",
    "print set(WordList)\n",
    "print set([w.lower() for w in WordList])"
   ]
  },
  {
   "cell_type": "code",
   "execution_count": null,
   "metadata": {
    "collapsed": true
   },
   "outputs": [],
   "source": []
  }
 ],
 "metadata": {
  "kernelspec": {
   "display_name": "Python 2",
   "language": "python",
   "name": "python2"
  },
  "language_info": {
   "codemirror_mode": {
    "name": "ipython",
    "version": 2
   },
   "file_extension": ".py",
   "mimetype": "text/x-python",
   "name": "python",
   "nbconvert_exporter": "python",
   "pygments_lexer": "ipython2",
   "version": "2.7.11"
  }
 },
 "nbformat": 4,
 "nbformat_minor": 0
}
